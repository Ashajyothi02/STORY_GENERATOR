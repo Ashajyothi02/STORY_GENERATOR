{
  "cells": [
    {
      "cell_type": "markdown",
      "source": [
        "**STORY GENERATOR WITH PYTHON**"
      ],
      "metadata": {
        "id": "Dbo0lHs8FGia"
      }
    },
    {
      "cell_type": "markdown",
      "source": [
        "\n",
        "Our task is to generate a random story every time the user runs the program.I will first store the parts of the stories in dierent lists,then the Random module can be used to select the random parts of the storystored in different lists: "
      ],
      "metadata": {
        "id": "BDAk71pTCEwc"
      }
    },
    {
      "cell_type": "code",
      "source": [
        "import random\n",
        "def abc(a):\n",
        "  when = ['A few years ago', 'Yesterday', 'Last night', 'A long time ago','On 20th Jan']\n",
        "  who = ['Girl','Boy']\n",
        "  #name = ['Ali', 'Miriam','daniel', 'Hoouk', 'Starwalker']\n",
        "  residence = ['Barcelona','India', 'Germany', 'Venice', 'England']\n",
        "  went = ['cinema', 'university','seminar', 'school', 'laundry']\n",
        "  happend = ['made a lot of friends','Eats a burger', 'found a secret key', 'solved a mistery', 'wrote a book']\n",
        "  print(random.choice(when) + ', ' + random.choice(who)+ ' named ' +a + ' who lived in ' + random.choice(residence) + ', went to the ' + random.choice(went) + ' and ' + random.choice(happened))\n",
        "  b=input('Do you want to listen another story, if yes enter yes or else no: ')\n",
        "  if b=='yes':\n",
        "    return abc(a)\n",
        "  else:\n",
        "    print('Thank you for listening our story')\n",
        "a=input('enter your name: ')\n",
        "abc(a)"
      ],
      "metadata": {
        "colab": {
          "base_uri": "https://localhost:8080/"
        },
        "id": "f8IwkHe92IpN",
        "outputId": "bd3b4ba2-e53c-45e5-e57e-959df91c420f"
      },
      "execution_count": 26,
      "outputs": [
        {
          "output_type": "stream",
          "name": "stdout",
          "text": [
            "enter your name: lavanya\n",
            "On 20th Jan, Girl named lavanya who lived in England, went to the seminar and solved a mistery\n",
            "Do you want to listen another story, if yes enter yes or else no: yes\n",
            "Last night, Boy named lavanya who lived in India, went to the seminar and wrote a book\n",
            "Do you want to listen another story, if yes enter yes or else no: no\n",
            "Thank you for listening our story\n"
          ]
        }
      ]
    }
  ],
  "metadata": {
    "colab": {
      "collapsed_sections": [],
      "name": "Untitled1.ipynb",
      "provenance": []
    },
    "kernelspec": {
      "display_name": "Python 3",
      "name": "python3"
    },
    "language_info": {
      "name": "python"
    }
  },
  "nbformat": 4,
  "nbformat_minor": 0
}